{
 "cells": [
  {
   "cell_type": "markdown",
   "id": "7f79baf9",
   "metadata": {},
   "source": [
    "# ADS 509 Assignment 2.1: Tokenization, Normalization, Descriptive Statistics \n",
    "## Harini Lakshmanan\n",
    "\n",
    "This notebook holds Assignment 2.1 for Module 2 in ADS 509, Applied Text Mining. Work through this notebook, writing code and answering questions where required. \n",
    "\n",
    "In the previous assignment you put together Twitter data and lyrics data on two artists. In this assignment we explore some of the textual features of those data sets. If, for some reason, you did not complete that previous assignment, data to use for this assignment can be found in the assignment materials section of Blackboard. \n",
    "\n",
    "This assignment asks you to write a short function to calculate some descriptive statistics on a piece of text. Then you are asked to find some interesting and unique statistics on your corpora. \n"
   ]
  },
  {
   "cell_type": "markdown",
   "id": "aae8e2e1",
   "metadata": {},
   "source": [
    "## General Assignment Instructions\n",
    "\n",
    "These instructions are included in every assignment, to remind you of the coding standards for the class. Feel free to delete this cell after reading it. \n",
    "\n",
    "One sign of mature code is conforming to a style guide. We recommend the [Google Python Style Guide](https://google.github.io/styleguide/pyguide.html). If you use a different style guide, please include a cell with a link. \n",
    "\n",
    "Your code should be relatively easy-to-read, sensibly commented, and clean. Writing code is a messy process, so please be sure to edit your final submission. Remove any cells that are not needed or parts of cells that contain unnecessary code. Remove inessential `import` statements and make sure that all such statements are moved into the designated cell. \n",
    "\n",
    "Make use of non-code cells for written commentary. These cells should be grammatical and clearly written. In some of these cells you will have questions to answer. The questions will be marked by a \"Q:\" and will have a corresponding \"A:\" spot for you. *Make sure to answer every question marked with a `Q:` for full credit.* \n"
   ]
  },
  {
   "cell_type": "code",
   "execution_count": 1,
   "id": "e2d096b7",
   "metadata": {},
   "outputs": [],
   "source": [
    "import os\n",
    "# import re\n",
    "import emoji\n",
    "import pandas as pd\n",
    "import numpy as np\n",
    "\n",
    "from collections import Counter, defaultdict\n",
    "from nltk.corpus import stopwords\n",
    "from string import punctuation\n",
    "\n",
    "sw = stopwords.words(\"english\")\n"
   ]
  },
  {
   "cell_type": "code",
   "execution_count": 2,
   "id": "6b555ab2",
   "metadata": {},
   "outputs": [],
   "source": [
    "# Add any additional import statements you need here\n",
    "from lexical_diversity import lex_div as ld\n",
    "import csv\n",
    "import html\n",
    "import textacy.preprocessing as tprep\n",
    "import spacy\n",
    "import regex as re\n"
   ]
  },
  {
   "cell_type": "code",
   "execution_count": 3,
   "id": "e164b5b1",
   "metadata": {},
   "outputs": [
    {
     "data": {
      "text/plain": [
       "<spacy.lang.en.English at 0x17fbd12ff70>"
      ]
     },
     "execution_count": 3,
     "metadata": {},
     "output_type": "execute_result"
    }
   ],
   "source": [
    "spacy.load('en_core_web_sm')"
   ]
  },
  {
   "cell_type": "code",
   "execution_count": 4,
   "id": "923b5a86",
   "metadata": {},
   "outputs": [],
   "source": [
    "# change `data_location` to the location of the folder on your machine.\n",
    "data_location = \"C:\\\\Users\\\\gauth\\\\Documents\\\\Harini\\\\San Diego University\\\\applied text mining\\\\M1 Assignment Data\\\\M1 Results\\\\\"\n",
    "# These subfolders should still work if you correctly stored the \n",
    "# data from the Module 1 assignment\n",
    "twitter_folder = \"twitter\\\\\"\n",
    "lyrics_folder = \"lyrics\\\\\"\n"
   ]
  },
  {
   "cell_type": "code",
   "execution_count": 5,
   "id": "06522af9",
   "metadata": {},
   "outputs": [],
   "source": [
    "def descriptive_stats(tokens, top_n_tokens = 5, verbose=True) :\n",
    "    \"\"\"\n",
    "        Given a list of tokens, print number of tokens, number of unique tokens, \n",
    "        number of characters, lexical diversity (https://en.wikipedia.org/wiki/Lexical_diversity), \n",
    "        and num_tokens most common tokens. Return a list with the number of tokens, number\n",
    "        of unique tokens, lexical diversity, and number of characters. \n",
    "    \n",
    "    \"\"\"\n",
    "    # Fill in the correct values here. \n",
    "    num_tokens = len(tokens)\n",
    "    num_unique_tokens = len(set(tokens))\n",
    "    lexical_diversity = ld.ttr(tokens) # Simple TTR = len(Counter(text))/len(text)\n",
    "    num_characters = sum([len(i) for i in tokens])\n",
    "    \n",
    "    if verbose:        \n",
    "        print(f\"There are {num_tokens} tokens in the data.\")\n",
    "        print(f\"There are {num_unique_tokens} unique tokens in the data.\")\n",
    "        print(f\"There are {num_characters} characters in the data.\")\n",
    "        print(f\"The lexical diversity is {lexical_diversity:.3f} in the data.\")\n",
    "    \n",
    "        # print the five most common tokens\n",
    "        print(f\"The top {top_n_tokens} most common tokens\")\n",
    "        print(Counter(tokens).most_common(top_n_tokens))\n",
    "        \n",
    "    return([num_tokens, num_unique_tokens,\n",
    "            lexical_diversity,\n",
    "            num_characters])\n",
    "    "
   ]
  },
  {
   "cell_type": "code",
   "execution_count": 6,
   "id": "59dcf058",
   "metadata": {},
   "outputs": [
    {
     "name": "stdout",
     "output_type": "stream",
     "text": [
      "There are 13 tokens in the data.\n",
      "There are 9 unique tokens in the data.\n",
      "There are 55 characters in the data.\n",
      "The lexical diversity is 0.692 in the data.\n",
      "The top 5 most common tokens\n",
      "[('text', 3), ('here', 2), ('example', 2), ('is', 1), ('some', 1)]\n"
     ]
    }
   ],
   "source": [
    "text = \"\"\"here is some example text with other example text here in this text\"\"\".split()\n",
    "assert(descriptive_stats(text, verbose=True)[0] == 13)\n",
    "assert(descriptive_stats(text, verbose=False)[1] == 9)\n",
    "assert(abs(descriptive_stats(text, verbose=False)[2] - 0.69) < 0.02)\n",
    "assert(descriptive_stats(text, verbose=False)[3] == 55)\n"
   ]
  },
  {
   "cell_type": "markdown",
   "id": "d2e7e1a2",
   "metadata": {},
   "source": [
    "Q: Why is it beneficial to use assertion statements in your code? \n",
    "\n",
    "A: Assertion statements are a way to make sure your code is working as you expect it to. You create examples that you know to be true and have the answer for. Then you run your code through your predefined examples to make sure it is running as expected.\n",
    "  "
   ]
  },
  {
   "cell_type": "markdown",
   "id": "9d3bf93e",
   "metadata": {},
   "source": [
    "## Data Input\n",
    "\n",
    "Now read in each of the corpora. For the lyrics data, it may be convenient to store the entire contents of the file to make it easier to inspect the titles individually, as you'll do in the last part of the assignment. In the solution, I stored the lyrics data in a dictionary with two dimensions of keys: artist and song. The value was the file contents. A data frame would work equally well. \n",
    "\n",
    "For the Twitter data, we only need the description field for this assignment. Feel free all the descriptions read it into a data structure. In the solution, I stored the descriptions as a dictionary of lists, with the key being the artist. \n",
    "\n",
    "\n"
   ]
  },
  {
   "cell_type": "code",
   "execution_count": 7,
   "id": "df5b8997",
   "metadata": {},
   "outputs": [],
   "source": [
    "# # Dictionary Approach 1 - first\n",
    "\n",
    "# d[artist][title] = “the song lyrics as a string”\n",
    "# d = {}\n",
    "# # Get the directory location\n",
    "# directory = data_location + lyrics_folder\n",
    "# # Get all the subfolders in directory.\n",
    "# artist_subfolders = [name for name in os.listdir(directory) if os.path.isdir(os.path.join(directory, name))]\n",
    "\n",
    "\n",
    "# # Get all the files in each of the subfolders\n",
    "# for artist in artist_subfolders:\n",
    "#     d[artist] = {}\n",
    "#     for filename in os.listdir(directory + artist):\n",
    "#         f = os.path.join(directory + artist, filename)\n",
    "#         # checking if it is a file\n",
    "#         if os.path.isfile(f):\n",
    "#             with open(f) as file:\n",
    "#                 title = file.readline().strip()\n",
    "#                 d[artist][title] = file.read().strip()\n"
   ]
  },
  {
   "cell_type": "code",
   "execution_count": 8,
   "id": "37d70801",
   "metadata": {},
   "outputs": [],
   "source": [
    "# Read in the lyrics data\n",
    "\n",
    "# Dictionary Approach 2 - Using defaultdict\n",
    "\n",
    "# d[artist][title] = “the song lyrics as a string”\n",
    "lyrics = defaultdict(lambda: defaultdict(str))\n",
    "#  \n",
    "# Get the directory location\n",
    "directory = data_location + lyrics_folder\n",
    "# Get all the subfolders in directory.\n",
    "artist_subfolders = [name for name in os.listdir(directory) if os.path.isdir(os.path.join(directory, name))]\n",
    "\n",
    "\n",
    "# Get all the files in each of the subfolders\n",
    "for artist in artist_subfolders:\n",
    "    for filename in os.listdir(directory + artist):\n",
    "        f = os.path.join(directory + artist, filename)\n",
    "        # checking if it is a file\n",
    "        if os.path.isfile(f):\n",
    "            with open(f) as file:\n",
    "                title = file.readline().strip()\n",
    "                lyrics[artist][title] = file.read().strip()"
   ]
  },
  {
   "cell_type": "code",
   "execution_count": 9,
   "id": "14055f7f",
   "metadata": {},
   "outputs": [
    {
     "data": {
      "text/html": [
       "<div>\n",
       "<style scoped>\n",
       "    .dataframe tbody tr th:only-of-type {\n",
       "        vertical-align: middle;\n",
       "    }\n",
       "\n",
       "    .dataframe tbody tr th {\n",
       "        vertical-align: top;\n",
       "    }\n",
       "\n",
       "    .dataframe thead th {\n",
       "        text-align: right;\n",
       "    }\n",
       "</style>\n",
       "<table border=\"1\" class=\"dataframe\">\n",
       "  <thead>\n",
       "    <tr style=\"text-align: right;\">\n",
       "      <th></th>\n",
       "      <th>title</th>\n",
       "      <th>lyrics</th>\n",
       "      <th>artist</th>\n",
       "    </tr>\n",
       "  </thead>\n",
       "  <tbody>\n",
       "    <tr>\n",
       "      <th>0</th>\n",
       "      <td>\"88 Degrees\"</td>\n",
       "      <td>Stuck in L.A., ain't got no friends \\nAnd so H...</td>\n",
       "      <td>cher</td>\n",
       "    </tr>\n",
       "    <tr>\n",
       "      <th>1</th>\n",
       "      <td>\"A Different Kind Of Love Song\"</td>\n",
       "      <td>What if the world was crazy and I was sane\\nWo...</td>\n",
       "      <td>cher</td>\n",
       "    </tr>\n",
       "    <tr>\n",
       "      <th>2</th>\n",
       "      <td>\"After All\"</td>\n",
       "      <td>Well, here we are again\\nI guess it must be fa...</td>\n",
       "      <td>cher</td>\n",
       "    </tr>\n",
       "    <tr>\n",
       "      <th>3</th>\n",
       "      <td>\"Again\"</td>\n",
       "      <td>Again evening finds me at your door \\nHere to ...</td>\n",
       "      <td>cher</td>\n",
       "    </tr>\n",
       "    <tr>\n",
       "      <th>4</th>\n",
       "      <td>\"Alfie\"</td>\n",
       "      <td>What's it all about, Alfie?\\nIs it just for th...</td>\n",
       "      <td>cher</td>\n",
       "    </tr>\n",
       "    <tr>\n",
       "      <th>...</th>\n",
       "      <td>...</td>\n",
       "      <td>...</td>\n",
       "      <td>...</td>\n",
       "    </tr>\n",
       "    <tr>\n",
       "      <th>714</th>\n",
       "      <td>\"We Dance To The Beat\"</td>\n",
       "      <td>We dance to the beat\\nWe dance to the beat\\nWe...</td>\n",
       "      <td>robyn</td>\n",
       "    </tr>\n",
       "    <tr>\n",
       "      <th>715</th>\n",
       "      <td>\"Where Did Our Love Go\"</td>\n",
       "      <td>Thoughts about you and me \\nThinkin' about wha...</td>\n",
       "      <td>robyn</td>\n",
       "    </tr>\n",
       "    <tr>\n",
       "      <th>716</th>\n",
       "      <td>\"Who's That Girl\"</td>\n",
       "      <td>Good girls are pretty like all the time\\nI'm j...</td>\n",
       "      <td>robyn</td>\n",
       "    </tr>\n",
       "    <tr>\n",
       "      <th>717</th>\n",
       "      <td>\"With Every Heartbeat\"</td>\n",
       "      <td>Maybe we could make it all right\\nWe could mak...</td>\n",
       "      <td>robyn</td>\n",
       "    </tr>\n",
       "    <tr>\n",
       "      <th>718</th>\n",
       "      <td>\"You've Got That Something\"</td>\n",
       "      <td>Look at me here I am\\nI'm givin all of my lovi...</td>\n",
       "      <td>robyn</td>\n",
       "    </tr>\n",
       "  </tbody>\n",
       "</table>\n",
       "<p>719 rows × 3 columns</p>\n",
       "</div>"
      ],
      "text/plain": [
       "                               title  \\\n",
       "0                       \"88 Degrees\"   \n",
       "1    \"A Different Kind Of Love Song\"   \n",
       "2                        \"After All\"   \n",
       "3                            \"Again\"   \n",
       "4                            \"Alfie\"   \n",
       "..                               ...   \n",
       "714           \"We Dance To The Beat\"   \n",
       "715          \"Where Did Our Love Go\"   \n",
       "716                \"Who's That Girl\"   \n",
       "717           \"With Every Heartbeat\"   \n",
       "718      \"You've Got That Something\"   \n",
       "\n",
       "                                                lyrics artist  \n",
       "0    Stuck in L.A., ain't got no friends \\nAnd so H...   cher  \n",
       "1    What if the world was crazy and I was sane\\nWo...   cher  \n",
       "2    Well, here we are again\\nI guess it must be fa...   cher  \n",
       "3    Again evening finds me at your door \\nHere to ...   cher  \n",
       "4    What's it all about, Alfie?\\nIs it just for th...   cher  \n",
       "..                                                 ...    ...  \n",
       "714  We dance to the beat\\nWe dance to the beat\\nWe...  robyn  \n",
       "715  Thoughts about you and me \\nThinkin' about wha...  robyn  \n",
       "716  Good girls are pretty like all the time\\nI'm j...  robyn  \n",
       "717  Maybe we could make it all right\\nWe could mak...  robyn  \n",
       "718  Look at me here I am\\nI'm givin all of my lovi...  robyn  \n",
       "\n",
       "[719 rows x 3 columns]"
      ]
     },
     "execution_count": 9,
     "metadata": {},
     "output_type": "execute_result"
    }
   ],
   "source": [
    "# Create lyrics Pandas Dataframe for Cleaning\n",
    "artists = ['cher', 'robyn']\n",
    "\n",
    "for i, artist in enumerate(artists):\n",
    "    if i == 0:\n",
    "        lyrics_df = pd.DataFrame(lyrics[artist].items(), columns=['title', 'lyrics'])\n",
    "        lyrics_df['artist'] = artist\n",
    "    lyrics_dfi = pd.DataFrame(lyrics[artist].items(), columns=['title', 'lyrics'])\n",
    "    lyrics_dfi['artist'] = artist\n",
    "    lyrics_df = pd.concat([lyrics_df, lyrics_dfi], ignore_index=True)\n",
    "\n",
    "lyrics_df = lyrics_df.fillna(value='')\n",
    "lyrics_df\n"
   ]
  },
  {
   "cell_type": "code",
   "execution_count": 10,
   "id": "e594ca70",
   "metadata": {},
   "outputs": [],
   "source": [
    "# Read in the twitter data\n",
    "import sys\n",
    "\n",
    "import csv\n",
    "\n",
    "\n",
    "maxInt = sys.maxsize\n",
    "\n",
    "while True:\n",
    "    try:\n",
    "        csv.field_size_limit(maxInt)\n",
    "        break\n",
    "    except OverflowError:\n",
    "        maxInt = int(maxInt / 10)\n",
    "\n",
    "desc = defaultdict(list)\n",
    "artists = ['cher', 'robyn']\n",
    "filename = ['cher_followers_data.txt', 'robynkonichiwa_followers_data.txt']\n",
    "directory = data_location + twitter_folder\n",
    "\n",
    "def remove_null_chars(text):\n",
    "    return text.replace('\\0', '')\n",
    "\n",
    "for i, artist in enumerate(artists):\n",
    "    f = os.path.join(directory, filename[i])\n",
    "\n",
    "    if os.path.isfile(f):\n",
    "        with open(f, 'rb') as f:  # Open in binary mode\n",
    "            reader = csv.DictReader((line.decode('utf-8', 'ignore').replace('\\0', '') for line in f), delimiter=\"\\t\")\n",
    "\n",
    "            for row in reader:\n",
    "                for (k, v) in row.items():\n",
    "                    if k == \"description\":\n",
    "                        desc[artist].append(v)\n"
   ]
  },
  {
   "cell_type": "code",
   "execution_count": 11,
   "id": "40c761ea",
   "metadata": {},
   "outputs": [
    {
     "data": {
      "text/html": [
       "<div>\n",
       "<style scoped>\n",
       "    .dataframe tbody tr th:only-of-type {\n",
       "        vertical-align: middle;\n",
       "    }\n",
       "\n",
       "    .dataframe tbody tr th {\n",
       "        vertical-align: top;\n",
       "    }\n",
       "\n",
       "    .dataframe thead th {\n",
       "        text-align: right;\n",
       "    }\n",
       "</style>\n",
       "<table border=\"1\" class=\"dataframe\">\n",
       "  <thead>\n",
       "    <tr style=\"text-align: right;\">\n",
       "      <th></th>\n",
       "      <th>description</th>\n",
       "      <th>artist</th>\n",
       "    </tr>\n",
       "  </thead>\n",
       "  <tbody>\n",
       "    <tr>\n",
       "      <th>0</th>\n",
       "      <td></td>\n",
       "      <td>cher</td>\n",
       "    </tr>\n",
       "    <tr>\n",
       "      <th>1</th>\n",
       "      <td>𝙿𝚛𝚘𝚞𝚍 𝚜𝚞𝚙𝚙𝚘𝚛𝚝𝚎𝚛 𝚘𝚏 𝚖𝚎𝚜𝚜𝚢 𝚋𝚞𝚗𝚜 &amp; 𝚕𝚎𝚐𝚐𝚒𝚗𝚐𝚜</td>\n",
       "      <td>cher</td>\n",
       "    </tr>\n",
       "    <tr>\n",
       "      <th>2</th>\n",
       "      <td>163㎝／愛かっぷ💜26歳🍒 工〇好きな女の子💓 フォローしてくれたらDMします🧡</td>\n",
       "      <td>cher</td>\n",
       "    </tr>\n",
       "    <tr>\n",
       "      <th>3</th>\n",
       "      <td>csu</td>\n",
       "      <td>cher</td>\n",
       "    </tr>\n",
       "    <tr>\n",
       "      <th>4</th>\n",
       "      <td>Writer @Washinformer @SpelmanCollege alumna #D...</td>\n",
       "      <td>cher</td>\n",
       "    </tr>\n",
       "    <tr>\n",
       "      <th>...</th>\n",
       "      <td>...</td>\n",
       "      <td>...</td>\n",
       "    </tr>\n",
       "    <tr>\n",
       "      <th>8184476</th>\n",
       "      <td>singer of songs, type 1 diabetic, tired $jakel...</td>\n",
       "      <td>robyn</td>\n",
       "    </tr>\n",
       "    <tr>\n",
       "      <th>8184477</th>\n",
       "      <td>Dadx2/ Con-Arch/ Photographer/ DK #stemgrønnes...</td>\n",
       "      <td>robyn</td>\n",
       "    </tr>\n",
       "    <tr>\n",
       "      <th>8184478</th>\n",
       "      <td>A year to change a life is still a year ✨😌</td>\n",
       "      <td>robyn</td>\n",
       "    </tr>\n",
       "    <tr>\n",
       "      <th>8184479</th>\n",
       "      <td>Head of Consumer - Mango. Made in Melbourne. R...</td>\n",
       "      <td>robyn</td>\n",
       "    </tr>\n",
       "    <tr>\n",
       "      <th>8184480</th>\n",
       "      <td>Stand for what is right, even if you stand alone.</td>\n",
       "      <td>robyn</td>\n",
       "    </tr>\n",
       "  </tbody>\n",
       "</table>\n",
       "<p>8184481 rows × 2 columns</p>\n",
       "</div>"
      ],
      "text/plain": [
       "                                               description artist\n",
       "0                                                            cher\n",
       "1                 𝙿𝚛𝚘𝚞𝚍 𝚜𝚞𝚙𝚙𝚘𝚛𝚝𝚎𝚛 𝚘𝚏 𝚖𝚎𝚜𝚜𝚢 𝚋𝚞𝚗𝚜 & 𝚕𝚎𝚐𝚐𝚒𝚗𝚐𝚜   cher\n",
       "2                163㎝／愛かっぷ💜26歳🍒 工〇好きな女の子💓 フォローしてくれたらDMします🧡   cher\n",
       "3                                                      csu   cher\n",
       "4        Writer @Washinformer @SpelmanCollege alumna #D...   cher\n",
       "...                                                    ...    ...\n",
       "8184476  singer of songs, type 1 diabetic, tired $jakel...  robyn\n",
       "8184477  Dadx2/ Con-Arch/ Photographer/ DK #stemgrønnes...  robyn\n",
       "8184478         A year to change a life is still a year ✨😌  robyn\n",
       "8184479  Head of Consumer - Mango. Made in Melbourne. R...  robyn\n",
       "8184480  Stand for what is right, even if you stand alone.  robyn\n",
       "\n",
       "[8184481 rows x 2 columns]"
      ]
     },
     "execution_count": 11,
     "metadata": {},
     "output_type": "execute_result"
    }
   ],
   "source": [
    "# Create Pandas Dataframe for Cleaning\n",
    "for i, artist in enumerate(artists):\n",
    "    if i == 0:\n",
    "        twitter_df = pd.DataFrame.from_dict(desc[artist], orient='columns')\n",
    "        twitter_df.rename({0:\"description\"}, inplace=True,  axis=1)\n",
    "        twitter_df['artist'] = artist\n",
    "    twitter_dfi = pd.DataFrame.from_dict(desc[artist])\n",
    "    twitter_dfi.rename({0:\"description\"}, inplace=True,  axis=1)\n",
    "    twitter_dfi['artist'] = artist\n",
    "    twitter_df = pd.concat([twitter_df, twitter_dfi], ignore_index=True)\n",
    "\n",
    "\n",
    "twitter_df = twitter_df.fillna(value=\"\")\n",
    "twitter_df"
   ]
  },
  {
   "cell_type": "markdown",
   "id": "6a5f3b12",
   "metadata": {},
   "source": [
    "## Data Cleaning\n",
    "\n",
    "Now clean and tokenize your data. Remove punctuation chacters (available in the `punctuation` object in the `string` library), split on whitespace, fold to lowercase, and remove stopwords. Store your cleaned data, which must be accessible as an interable for `descriptive_stats`, in new objects or in new columns in your data frame. \n",
    "\n"
   ]
  },
  {
   "cell_type": "code",
   "execution_count": 12,
   "id": "71c73d86",
   "metadata": {},
   "outputs": [],
   "source": [
    "punctuation = set(punctuation) # speeds up comparison"
   ]
  },
  {
   "cell_type": "code",
   "execution_count": 13,
   "id": "7911682c",
   "metadata": {},
   "outputs": [],
   "source": [
    "# Cleaning data\n",
    "\n",
    "\n",
    "\n",
    "def clean(text):\n",
    "    # convert html escapes like &amp; to characters.\n",
    "    text = html.unescape(text)\n",
    "    # tags like <tab>\n",
    "    text = re.sub(r'<[^<>]*>', ' ', text)\n",
    "    # markdown URLs like [Some text](https://....)\n",
    "    text = re.sub(r'\\[([^\\[\\]]*)\\]\\([^\\(\\)]*\\)', r'\\1', text)\n",
    "    # text or code in brackets like [0]\n",
    "    text = re.sub(r'\\[[^\\[\\]]*\\]', ' ', text)\n",
    "    # standalone sequences of specials, matches &# but not #cool\n",
    "    text = re.sub(r'(?:^|\\s)[&#<>{}\\[\\]+|\\\\:-]{1,}(?:\\s|$)', ' ', text)\n",
    "    # standalone sequences of hyphens like --- or ==\n",
    "    text = re.sub(r'(?:^|\\s)[\\-=\\+]{2,}(?:\\s|$)', ' ', text)\n",
    "    # Remove Puncuation\n",
    "    def remove_punc(s):\n",
    "        return ''.join(ch for ch in s if ch not in punctuation)\n",
    "    text = remove_punc(text)\n",
    "    # sequences of white spaces\n",
    "    text = re.sub(r'\\s+', ' ', text)\n",
    "    return text.strip()\n",
    "\n",
    "\n",
    "\n",
    "def normalize(text):\n",
    "    text = tprep.normalize.hyphenated_words(text)\n",
    "    text = tprep.normalize.quotation_marks(text)\n",
    "    text = tprep.normalize.unicode(text)\n",
    "    text = tprep.remove.accents(text)\n",
    "    return text\n",
    "\n",
    "def tokenize(text):\n",
    "    return re.findall(r'[\\w-]*\\p{L}[\\w-]*', text)\n",
    "\n",
    "def remove_stop(tokens):\n",
    "    return [t for t in tokens if t.lower() not in sw]\n",
    "\n",
    "\n",
    "\n"
   ]
  },
  {
   "cell_type": "code",
   "execution_count": 14,
   "id": "b327033a",
   "metadata": {},
   "outputs": [
    {
     "data": {
      "text/html": [
       "<div>\n",
       "<style scoped>\n",
       "    .dataframe tbody tr th:only-of-type {\n",
       "        vertical-align: middle;\n",
       "    }\n",
       "\n",
       "    .dataframe tbody tr th {\n",
       "        vertical-align: top;\n",
       "    }\n",
       "\n",
       "    .dataframe thead th {\n",
       "        text-align: right;\n",
       "    }\n",
       "</style>\n",
       "<table border=\"1\" class=\"dataframe\">\n",
       "  <thead>\n",
       "    <tr style=\"text-align: right;\">\n",
       "      <th></th>\n",
       "      <th>description</th>\n",
       "      <th>artist</th>\n",
       "      <th>clean_description</th>\n",
       "      <th>normalized_description</th>\n",
       "      <th>tokenized</th>\n",
       "      <th>tokens</th>\n",
       "    </tr>\n",
       "  </thead>\n",
       "  <tbody>\n",
       "    <tr>\n",
       "      <th>0</th>\n",
       "      <td></td>\n",
       "      <td>cher</td>\n",
       "      <td></td>\n",
       "      <td></td>\n",
       "      <td>[]</td>\n",
       "      <td>[]</td>\n",
       "    </tr>\n",
       "    <tr>\n",
       "      <th>1</th>\n",
       "      <td>𝙿𝚛𝚘𝚞𝚍 𝚜𝚞𝚙𝚙𝚘𝚛𝚝𝚎𝚛 𝚘𝚏 𝚖𝚎𝚜𝚜𝚢 𝚋𝚞𝚗𝚜 &amp; 𝚕𝚎𝚐𝚐𝚒𝚗𝚐𝚜</td>\n",
       "      <td>cher</td>\n",
       "      <td>𝙿𝚛𝚘𝚞𝚍 𝚜𝚞𝚙𝚙𝚘𝚛𝚝𝚎𝚛 𝚘𝚏 𝚖𝚎𝚜𝚜𝚢 𝚋𝚞𝚗𝚜 𝚕𝚎𝚐𝚐𝚒𝚗𝚐𝚜</td>\n",
       "      <td>Proud supporter of messy buns leggings</td>\n",
       "      <td>[Proud, supporter, of, messy, buns, leggings]</td>\n",
       "      <td>[Proud, supporter, messy, buns, leggings]</td>\n",
       "    </tr>\n",
       "    <tr>\n",
       "      <th>2</th>\n",
       "      <td>163㎝／愛かっぷ💜26歳🍒 工〇好きな女の子💓 フォローしてくれたらDMします🧡</td>\n",
       "      <td>cher</td>\n",
       "      <td>163㎝／愛かっぷ💜26歳🍒 工〇好きな女の子💓 フォローしてくれたらDMします🧡</td>\n",
       "      <td>163cm/愛かっふ💜26歳🍒 工〇好きな女の子💓 フォローしてくれたらDMします🧡</td>\n",
       "      <td>[163cm, 愛かっふ, 26歳, 工〇好きな女の子, フォローしてくれたらDMします]</td>\n",
       "      <td>[163cm, 愛かっふ, 26歳, 工〇好きな女の子, フォローしてくれたらDMします]</td>\n",
       "    </tr>\n",
       "    <tr>\n",
       "      <th>3</th>\n",
       "      <td>csu</td>\n",
       "      <td>cher</td>\n",
       "      <td>csu</td>\n",
       "      <td>csu</td>\n",
       "      <td>[csu]</td>\n",
       "      <td>[csu]</td>\n",
       "    </tr>\n",
       "    <tr>\n",
       "      <th>4</th>\n",
       "      <td>Writer @Washinformer @SpelmanCollege alumna #D...</td>\n",
       "      <td>cher</td>\n",
       "      <td>Writer Washinformer SpelmanCollege alumna DCna...</td>\n",
       "      <td>Writer Washinformer SpelmanCollege alumna DCna...</td>\n",
       "      <td>[Writer, Washinformer, SpelmanCollege, alumna,...</td>\n",
       "      <td>[Writer, Washinformer, SpelmanCollege, alumna,...</td>\n",
       "    </tr>\n",
       "    <tr>\n",
       "      <th>...</th>\n",
       "      <td>...</td>\n",
       "      <td>...</td>\n",
       "      <td>...</td>\n",
       "      <td>...</td>\n",
       "      <td>...</td>\n",
       "      <td>...</td>\n",
       "    </tr>\n",
       "    <tr>\n",
       "      <th>8184476</th>\n",
       "      <td>singer of songs, type 1 diabetic, tired $jakel...</td>\n",
       "      <td>robyn</td>\n",
       "      <td>singer of songs type 1 diabetic tired jakelgil...</td>\n",
       "      <td>singer of songs type 1 diabetic tired jakelgil...</td>\n",
       "      <td>[singer, of, songs, type, diabetic, tired, jak...</td>\n",
       "      <td>[singer, songs, type, diabetic, tired, jakelgi...</td>\n",
       "    </tr>\n",
       "    <tr>\n",
       "      <th>8184477</th>\n",
       "      <td>Dadx2/ Con-Arch/ Photographer/ DK #stemgrønnes...</td>\n",
       "      <td>robyn</td>\n",
       "      <td>Dadx2 ConArch Photographer DK stemgrønnest grø...</td>\n",
       "      <td>Dadx2 ConArch Photographer DK stemgrønnest grø...</td>\n",
       "      <td>[Dadx2, ConArch, Photographer, DK, stemgrønnes...</td>\n",
       "      <td>[Dadx2, ConArch, Photographer, DK, stemgrønnes...</td>\n",
       "    </tr>\n",
       "    <tr>\n",
       "      <th>8184478</th>\n",
       "      <td>A year to change a life is still a year ✨😌</td>\n",
       "      <td>robyn</td>\n",
       "      <td>A year to change a life is still a year ✨😌</td>\n",
       "      <td>A year to change a life is still a year ✨😌</td>\n",
       "      <td>[A, year, to, change, a, life, is, still, a, y...</td>\n",
       "      <td>[year, change, life, still, year]</td>\n",
       "    </tr>\n",
       "    <tr>\n",
       "      <th>8184479</th>\n",
       "      <td>Head of Consumer - Mango. Made in Melbourne. R...</td>\n",
       "      <td>robyn</td>\n",
       "      <td>Head of Consumer Mango Made in Melbourne Rambl...</td>\n",
       "      <td>Head of Consumer Mango Made in Melbourne Rambl...</td>\n",
       "      <td>[Head, of, Consumer, Mango, Made, in, Melbourn...</td>\n",
       "      <td>[Head, Consumer, Mango, Made, Melbourne, Rambl...</td>\n",
       "    </tr>\n",
       "    <tr>\n",
       "      <th>8184480</th>\n",
       "      <td>Stand for what is right, even if you stand alone.</td>\n",
       "      <td>robyn</td>\n",
       "      <td>Stand for what is right even if you stand alone</td>\n",
       "      <td>Stand for what is right even if you stand alone</td>\n",
       "      <td>[Stand, for, what, is, right, even, if, you, s...</td>\n",
       "      <td>[Stand, right, even, stand, alone]</td>\n",
       "    </tr>\n",
       "  </tbody>\n",
       "</table>\n",
       "<p>8184481 rows × 6 columns</p>\n",
       "</div>"
      ],
      "text/plain": [
       "                                               description artist  \\\n",
       "0                                                            cher   \n",
       "1                 𝙿𝚛𝚘𝚞𝚍 𝚜𝚞𝚙𝚙𝚘𝚛𝚝𝚎𝚛 𝚘𝚏 𝚖𝚎𝚜𝚜𝚢 𝚋𝚞𝚗𝚜 & 𝚕𝚎𝚐𝚐𝚒𝚗𝚐𝚜   cher   \n",
       "2                163㎝／愛かっぷ💜26歳🍒 工〇好きな女の子💓 フォローしてくれたらDMします🧡   cher   \n",
       "3                                                      csu   cher   \n",
       "4        Writer @Washinformer @SpelmanCollege alumna #D...   cher   \n",
       "...                                                    ...    ...   \n",
       "8184476  singer of songs, type 1 diabetic, tired $jakel...  robyn   \n",
       "8184477  Dadx2/ Con-Arch/ Photographer/ DK #stemgrønnes...  robyn   \n",
       "8184478         A year to change a life is still a year ✨😌  robyn   \n",
       "8184479  Head of Consumer - Mango. Made in Melbourne. R...  robyn   \n",
       "8184480  Stand for what is right, even if you stand alone.  robyn   \n",
       "\n",
       "                                         clean_description  \\\n",
       "0                                                            \n",
       "1                   𝙿𝚛𝚘𝚞𝚍 𝚜𝚞𝚙𝚙𝚘𝚛𝚝𝚎𝚛 𝚘𝚏 𝚖𝚎𝚜𝚜𝚢 𝚋𝚞𝚗𝚜 𝚕𝚎𝚐𝚐𝚒𝚗𝚐𝚜   \n",
       "2                163㎝／愛かっぷ💜26歳🍒 工〇好きな女の子💓 フォローしてくれたらDMします🧡   \n",
       "3                                                      csu   \n",
       "4        Writer Washinformer SpelmanCollege alumna DCna...   \n",
       "...                                                    ...   \n",
       "8184476  singer of songs type 1 diabetic tired jakelgil...   \n",
       "8184477  Dadx2 ConArch Photographer DK stemgrønnest grø...   \n",
       "8184478         A year to change a life is still a year ✨😌   \n",
       "8184479  Head of Consumer Mango Made in Melbourne Rambl...   \n",
       "8184480    Stand for what is right even if you stand alone   \n",
       "\n",
       "                                    normalized_description  \\\n",
       "0                                                            \n",
       "1                   Proud supporter of messy buns leggings   \n",
       "2               163cm/愛かっふ💜26歳🍒 工〇好きな女の子💓 フォローしてくれたらDMします🧡   \n",
       "3                                                      csu   \n",
       "4        Writer Washinformer SpelmanCollege alumna DCna...   \n",
       "...                                                    ...   \n",
       "8184476  singer of songs type 1 diabetic tired jakelgil...   \n",
       "8184477  Dadx2 ConArch Photographer DK stemgrønnest grø...   \n",
       "8184478         A year to change a life is still a year ✨😌   \n",
       "8184479  Head of Consumer Mango Made in Melbourne Rambl...   \n",
       "8184480    Stand for what is right even if you stand alone   \n",
       "\n",
       "                                                 tokenized  \\\n",
       "0                                                       []   \n",
       "1            [Proud, supporter, of, messy, buns, leggings]   \n",
       "2            [163cm, 愛かっふ, 26歳, 工〇好きな女の子, フォローしてくれたらDMします]   \n",
       "3                                                    [csu]   \n",
       "4        [Writer, Washinformer, SpelmanCollege, alumna,...   \n",
       "...                                                    ...   \n",
       "8184476  [singer, of, songs, type, diabetic, tired, jak...   \n",
       "8184477  [Dadx2, ConArch, Photographer, DK, stemgrønnes...   \n",
       "8184478  [A, year, to, change, a, life, is, still, a, y...   \n",
       "8184479  [Head, of, Consumer, Mango, Made, in, Melbourn...   \n",
       "8184480  [Stand, for, what, is, right, even, if, you, s...   \n",
       "\n",
       "                                                    tokens  \n",
       "0                                                       []  \n",
       "1                [Proud, supporter, messy, buns, leggings]  \n",
       "2            [163cm, 愛かっふ, 26歳, 工〇好きな女の子, フォローしてくれたらDMします]  \n",
       "3                                                    [csu]  \n",
       "4        [Writer, Washinformer, SpelmanCollege, alumna,...  \n",
       "...                                                    ...  \n",
       "8184476  [singer, songs, type, diabetic, tired, jakelgi...  \n",
       "8184477  [Dadx2, ConArch, Photographer, DK, stemgrønnes...  \n",
       "8184478                  [year, change, life, still, year]  \n",
       "8184479  [Head, Consumer, Mango, Made, Melbourne, Rambl...  \n",
       "8184480                 [Stand, right, even, stand, alone]  \n",
       "\n",
       "[8184481 rows x 6 columns]"
      ]
     },
     "execution_count": 14,
     "metadata": {},
     "output_type": "execute_result"
    }
   ],
   "source": [
    "# create your clean twitter data here\n",
    "twitter_df['clean_description'] = twitter_df['description'].map(clean)\n",
    "# Normalize Text\n",
    "twitter_df['normalized_description'] = twitter_df['clean_description'].map(normalize)\n",
    "# Tokenized Data\n",
    "twitter_df['tokenized'] = twitter_df['normalized_description'].map(tokenize)\n",
    "# Remove Stop Words\n",
    "twitter_df['tokens'] = twitter_df['tokenized'].map(remove_stop)\n",
    "\n",
    "twitter_df\n"
   ]
  },
  {
   "cell_type": "code",
   "execution_count": 15,
   "id": "2bbd4494",
   "metadata": {},
   "outputs": [],
   "source": [
    "# Save Data for Later Use\n",
    "twitter_df.to_pickle(\"twitter_df.pkl\")\n",
    "# twitter_df = pd.read_pickle(\"twitter_df.pkl\")"
   ]
  },
  {
   "cell_type": "code",
   "execution_count": 16,
   "id": "e0f22e10",
   "metadata": {},
   "outputs": [
    {
     "data": {
      "text/html": [
       "<div>\n",
       "<style scoped>\n",
       "    .dataframe tbody tr th:only-of-type {\n",
       "        vertical-align: middle;\n",
       "    }\n",
       "\n",
       "    .dataframe tbody tr th {\n",
       "        vertical-align: top;\n",
       "    }\n",
       "\n",
       "    .dataframe thead th {\n",
       "        text-align: right;\n",
       "    }\n",
       "</style>\n",
       "<table border=\"1\" class=\"dataframe\">\n",
       "  <thead>\n",
       "    <tr style=\"text-align: right;\">\n",
       "      <th></th>\n",
       "      <th>title</th>\n",
       "      <th>lyrics</th>\n",
       "      <th>artist</th>\n",
       "      <th>clean_lyrics</th>\n",
       "      <th>normalized_lyrics</th>\n",
       "      <th>tokenized</th>\n",
       "      <th>tokens</th>\n",
       "    </tr>\n",
       "  </thead>\n",
       "  <tbody>\n",
       "    <tr>\n",
       "      <th>0</th>\n",
       "      <td>\"88 Degrees\"</td>\n",
       "      <td>Stuck in L.A., ain't got no friends \\nAnd so H...</td>\n",
       "      <td>cher</td>\n",
       "      <td>Stuck in LA aint got no friends And so Hollywo...</td>\n",
       "      <td>Stuck in LA aint got no friends And so Hollywo...</td>\n",
       "      <td>[Stuck, in, LA, aint, got, no, friends, And, s...</td>\n",
       "      <td>[Stuck, LA, aint, got, friends, Hollywood, nut...</td>\n",
       "    </tr>\n",
       "    <tr>\n",
       "      <th>1</th>\n",
       "      <td>\"A Different Kind Of Love Song\"</td>\n",
       "      <td>What if the world was crazy and I was sane\\nWo...</td>\n",
       "      <td>cher</td>\n",
       "      <td>What if the world was crazy and I was sane Wou...</td>\n",
       "      <td>What if the world was crazy and I was sane Wou...</td>\n",
       "      <td>[What, if, the, world, was, crazy, and, I, was...</td>\n",
       "      <td>[world, crazy, sane, Would, strange, cant, bel...</td>\n",
       "    </tr>\n",
       "    <tr>\n",
       "      <th>2</th>\n",
       "      <td>\"After All\"</td>\n",
       "      <td>Well, here we are again\\nI guess it must be fa...</td>\n",
       "      <td>cher</td>\n",
       "      <td>Well here we are again I guess it must be fate...</td>\n",
       "      <td>Well here we are again I guess it must be fate...</td>\n",
       "      <td>[Well, here, we, are, again, I, guess, it, mus...</td>\n",
       "      <td>[Well, guess, must, fate, Weve, tried, deep, i...</td>\n",
       "    </tr>\n",
       "    <tr>\n",
       "      <th>3</th>\n",
       "      <td>\"Again\"</td>\n",
       "      <td>Again evening finds me at your door \\nHere to ...</td>\n",
       "      <td>cher</td>\n",
       "      <td>Again evening finds me at your door Here to as...</td>\n",
       "      <td>Again evening finds me at your door Here to as...</td>\n",
       "      <td>[Again, evening, finds, me, at, your, door, He...</td>\n",
       "      <td>[evening, finds, door, ask, could, try, dont, ...</td>\n",
       "    </tr>\n",
       "    <tr>\n",
       "      <th>4</th>\n",
       "      <td>\"Alfie\"</td>\n",
       "      <td>What's it all about, Alfie?\\nIs it just for th...</td>\n",
       "      <td>cher</td>\n",
       "      <td>Whats it all about Alfie Is it just for the mo...</td>\n",
       "      <td>Whats it all about Alfie Is it just for the mo...</td>\n",
       "      <td>[Whats, it, all, about, Alfie, Is, it, just, f...</td>\n",
       "      <td>[Whats, Alfie, moment, live, Whats, sort, Alfi...</td>\n",
       "    </tr>\n",
       "    <tr>\n",
       "      <th>...</th>\n",
       "      <td>...</td>\n",
       "      <td>...</td>\n",
       "      <td>...</td>\n",
       "      <td>...</td>\n",
       "      <td>...</td>\n",
       "      <td>...</td>\n",
       "      <td>...</td>\n",
       "    </tr>\n",
       "    <tr>\n",
       "      <th>714</th>\n",
       "      <td>\"We Dance To The Beat\"</td>\n",
       "      <td>We dance to the beat\\nWe dance to the beat\\nWe...</td>\n",
       "      <td>robyn</td>\n",
       "      <td>We dance to the beat We dance to the beat We d...</td>\n",
       "      <td>We dance to the beat We dance to the beat We d...</td>\n",
       "      <td>[We, dance, to, the, beat, We, dance, to, the,...</td>\n",
       "      <td>[dance, beat, dance, beat, dance, beat, dance,...</td>\n",
       "    </tr>\n",
       "    <tr>\n",
       "      <th>715</th>\n",
       "      <td>\"Where Did Our Love Go\"</td>\n",
       "      <td>Thoughts about you and me \\nThinkin' about wha...</td>\n",
       "      <td>robyn</td>\n",
       "      <td>Thoughts about you and me Thinkin about what w...</td>\n",
       "      <td>Thoughts about you and me Thinkin about what w...</td>\n",
       "      <td>[Thoughts, about, you, and, me, Thinkin, about...</td>\n",
       "      <td>[Thoughts, Thinkin, used, Love, strong, one, d...</td>\n",
       "    </tr>\n",
       "    <tr>\n",
       "      <th>716</th>\n",
       "      <td>\"Who's That Girl\"</td>\n",
       "      <td>Good girls are pretty like all the time\\nI'm j...</td>\n",
       "      <td>robyn</td>\n",
       "      <td>Good girls are pretty like all the time Im jus...</td>\n",
       "      <td>Good girls are pretty like all the time Im jus...</td>\n",
       "      <td>[Good, girls, are, pretty, like, all, the, tim...</td>\n",
       "      <td>[Good, girls, pretty, like, time, Im, pretty, ...</td>\n",
       "    </tr>\n",
       "    <tr>\n",
       "      <th>717</th>\n",
       "      <td>\"With Every Heartbeat\"</td>\n",
       "      <td>Maybe we could make it all right\\nWe could mak...</td>\n",
       "      <td>robyn</td>\n",
       "      <td>Maybe we could make it all right We could make...</td>\n",
       "      <td>Maybe we could make it all right We could make...</td>\n",
       "      <td>[Maybe, we, could, make, it, all, right, We, c...</td>\n",
       "      <td>[Maybe, could, make, right, could, make, bette...</td>\n",
       "    </tr>\n",
       "    <tr>\n",
       "      <th>718</th>\n",
       "      <td>\"You've Got That Something\"</td>\n",
       "      <td>Look at me here I am\\nI'm givin all of my lovi...</td>\n",
       "      <td>robyn</td>\n",
       "      <td>Look at me here I am Im givin all of my lovin ...</td>\n",
       "      <td>Look at me here I am Im givin all of my lovin ...</td>\n",
       "      <td>[Look, at, me, here, I, am, Im, givin, all, of...</td>\n",
       "      <td>[Look, Im, givin, lovin, every, day, life, see...</td>\n",
       "    </tr>\n",
       "  </tbody>\n",
       "</table>\n",
       "<p>719 rows × 7 columns</p>\n",
       "</div>"
      ],
      "text/plain": [
       "                               title  \\\n",
       "0                       \"88 Degrees\"   \n",
       "1    \"A Different Kind Of Love Song\"   \n",
       "2                        \"After All\"   \n",
       "3                            \"Again\"   \n",
       "4                            \"Alfie\"   \n",
       "..                               ...   \n",
       "714           \"We Dance To The Beat\"   \n",
       "715          \"Where Did Our Love Go\"   \n",
       "716                \"Who's That Girl\"   \n",
       "717           \"With Every Heartbeat\"   \n",
       "718      \"You've Got That Something\"   \n",
       "\n",
       "                                                lyrics artist  \\\n",
       "0    Stuck in L.A., ain't got no friends \\nAnd so H...   cher   \n",
       "1    What if the world was crazy and I was sane\\nWo...   cher   \n",
       "2    Well, here we are again\\nI guess it must be fa...   cher   \n",
       "3    Again evening finds me at your door \\nHere to ...   cher   \n",
       "4    What's it all about, Alfie?\\nIs it just for th...   cher   \n",
       "..                                                 ...    ...   \n",
       "714  We dance to the beat\\nWe dance to the beat\\nWe...  robyn   \n",
       "715  Thoughts about you and me \\nThinkin' about wha...  robyn   \n",
       "716  Good girls are pretty like all the time\\nI'm j...  robyn   \n",
       "717  Maybe we could make it all right\\nWe could mak...  robyn   \n",
       "718  Look at me here I am\\nI'm givin all of my lovi...  robyn   \n",
       "\n",
       "                                          clean_lyrics  \\\n",
       "0    Stuck in LA aint got no friends And so Hollywo...   \n",
       "1    What if the world was crazy and I was sane Wou...   \n",
       "2    Well here we are again I guess it must be fate...   \n",
       "3    Again evening finds me at your door Here to as...   \n",
       "4    Whats it all about Alfie Is it just for the mo...   \n",
       "..                                                 ...   \n",
       "714  We dance to the beat We dance to the beat We d...   \n",
       "715  Thoughts about you and me Thinkin about what w...   \n",
       "716  Good girls are pretty like all the time Im jus...   \n",
       "717  Maybe we could make it all right We could make...   \n",
       "718  Look at me here I am Im givin all of my lovin ...   \n",
       "\n",
       "                                     normalized_lyrics  \\\n",
       "0    Stuck in LA aint got no friends And so Hollywo...   \n",
       "1    What if the world was crazy and I was sane Wou...   \n",
       "2    Well here we are again I guess it must be fate...   \n",
       "3    Again evening finds me at your door Here to as...   \n",
       "4    Whats it all about Alfie Is it just for the mo...   \n",
       "..                                                 ...   \n",
       "714  We dance to the beat We dance to the beat We d...   \n",
       "715  Thoughts about you and me Thinkin about what w...   \n",
       "716  Good girls are pretty like all the time Im jus...   \n",
       "717  Maybe we could make it all right We could make...   \n",
       "718  Look at me here I am Im givin all of my lovin ...   \n",
       "\n",
       "                                             tokenized  \\\n",
       "0    [Stuck, in, LA, aint, got, no, friends, And, s...   \n",
       "1    [What, if, the, world, was, crazy, and, I, was...   \n",
       "2    [Well, here, we, are, again, I, guess, it, mus...   \n",
       "3    [Again, evening, finds, me, at, your, door, He...   \n",
       "4    [Whats, it, all, about, Alfie, Is, it, just, f...   \n",
       "..                                                 ...   \n",
       "714  [We, dance, to, the, beat, We, dance, to, the,...   \n",
       "715  [Thoughts, about, you, and, me, Thinkin, about...   \n",
       "716  [Good, girls, are, pretty, like, all, the, tim...   \n",
       "717  [Maybe, we, could, make, it, all, right, We, c...   \n",
       "718  [Look, at, me, here, I, am, Im, givin, all, of...   \n",
       "\n",
       "                                                tokens  \n",
       "0    [Stuck, LA, aint, got, friends, Hollywood, nut...  \n",
       "1    [world, crazy, sane, Would, strange, cant, bel...  \n",
       "2    [Well, guess, must, fate, Weve, tried, deep, i...  \n",
       "3    [evening, finds, door, ask, could, try, dont, ...  \n",
       "4    [Whats, Alfie, moment, live, Whats, sort, Alfi...  \n",
       "..                                                 ...  \n",
       "714  [dance, beat, dance, beat, dance, beat, dance,...  \n",
       "715  [Thoughts, Thinkin, used, Love, strong, one, d...  \n",
       "716  [Good, girls, pretty, like, time, Im, pretty, ...  \n",
       "717  [Maybe, could, make, right, could, make, bette...  \n",
       "718  [Look, Im, givin, lovin, every, day, life, see...  \n",
       "\n",
       "[719 rows x 7 columns]"
      ]
     },
     "execution_count": 16,
     "metadata": {},
     "output_type": "execute_result"
    }
   ],
   "source": [
    "# create your clean lyrics data here\n",
    "lyrics_df['clean_lyrics'] = lyrics_df['lyrics'].map(clean)\n",
    "# Normalize Text\n",
    "lyrics_df['normalized_lyrics'] = lyrics_df['clean_lyrics'] .map(normalize)\n",
    "# Tokenized Data\n",
    "lyrics_df['tokenized'] = lyrics_df['normalized_lyrics'].map(tokenize)\n",
    "# Remove Stop Words\n",
    "lyrics_df['tokens'] = lyrics_df['tokenized'].map(remove_stop)\n",
    "\n",
    "lyrics_df"
   ]
  },
  {
   "cell_type": "code",
   "execution_count": 17,
   "id": "99ed41b0",
   "metadata": {},
   "outputs": [],
   "source": [
    "# Save Data for Later Use\n",
    "lyrics_df.to_pickle(\"lyrics_df.pkl\")\n",
    "# lyrics_df = pd.read_pickle(\"lyrics_df.pkl\")"
   ]
  },
  {
   "cell_type": "markdown",
   "id": "f2dd0179",
   "metadata": {},
   "source": [
    "## Basic Descriptive Statistics\n",
    "\n",
    "Call your `descriptive_stats` function on both your lyrics data and your twitter data and for both artists (four total calls). "
   ]
  },
  {
   "cell_type": "code",
   "execution_count": 18,
   "id": "f0bbedd9",
   "metadata": {},
   "outputs": [
    {
     "name": "stdout",
     "output_type": "stream",
     "text": [
      "\n",
      "Lyrics Data for Cher:\n",
      "\n",
      "There are 69548 tokens in the data.\n",
      "There are 4334 unique tokens in the data.\n",
      "There are 333830 characters in the data.\n",
      "The lexical diversity is 0.062 in the data.\n",
      "The top 5 most common tokens\n",
      "[('love', 1622), ('Im', 1020), ('know', 942), ('dont', 626), ('see', 568)]\n"
     ]
    },
    {
     "data": {
      "text/plain": [
       "[69548, 4334, 0.062316673376660726, 333830]"
      ]
     },
     "execution_count": 18,
     "metadata": {},
     "output_type": "execute_result"
    }
   ],
   "source": [
    "# calls to descriptive_stats here\n",
    "\n",
    "# Helper Function\n",
    "def flatten_and_descriptive_stats(list_of_lists):\n",
    "    wordlist = [i for s in list_of_lists for i in s]\n",
    "    return descriptive_stats(wordlist)\n",
    "\n",
    "\n",
    "\n",
    "print(\"\\nLyrics Data for Cher:\\n\")\n",
    "flatten_and_descriptive_stats(lyrics_df.loc[lyrics_df['artist']=='cher'][\"tokens\"])"
   ]
  },
  {
   "cell_type": "code",
   "execution_count": 19,
   "id": "10ab0261",
   "metadata": {},
   "outputs": [
    {
     "name": "stdout",
     "output_type": "stream",
     "text": [
      "\n",
      "Lyrics Data for Robyn:\n",
      "\n",
      "There are 12931 tokens in the data.\n",
      "There are 2409 unique tokens in the data.\n",
      "There are 62136 characters in the data.\n",
      "The lexical diversity is 0.186 in the data.\n",
      "The top 5 most common tokens\n",
      "[('Im', 254), ('know', 235), ('love', 214), ('got', 207), ('dont', 189)]\n"
     ]
    },
    {
     "data": {
      "text/plain": [
       "[12931, 2409, 0.1862964967906581, 62136]"
      ]
     },
     "execution_count": 19,
     "metadata": {},
     "output_type": "execute_result"
    }
   ],
   "source": [
    "print(\"\\nLyrics Data for Robyn:\\n\")\n",
    "flatten_and_descriptive_stats(lyrics_df[lyrics_df['artist']=='robyn'][\"tokens\"])"
   ]
  },
  {
   "cell_type": "code",
   "execution_count": 20,
   "id": "f67e09dd",
   "metadata": {},
   "outputs": [
    {
     "name": "stdout",
     "output_type": "stream",
     "text": [
      "\n",
      "Twitter Description Data for Cher:\n",
      "\n",
      "There are 30077144 tokens in the data.\n",
      "There are 1476381 unique tokens in the data.\n",
      "There are 183717856 characters in the data.\n",
      "The lexical diversity is 0.049 in the data.\n",
      "The top 5 most common tokens\n",
      "[('love', 300980), ('Im', 215364), ('life', 198284), ('de', 138336), ('Love', 111376)]\n"
     ]
    },
    {
     "data": {
      "text/plain": [
       "[30077144, 1476381, 0.04908647576378927, 183717856]"
      ]
     },
     "execution_count": 20,
     "metadata": {},
     "output_type": "execute_result"
    }
   ],
   "source": [
    "print(\"\\nTwitter Description Data for Cher:\\n\")\n",
    "flatten_and_descriptive_stats(twitter_df.loc[twitter_df['artist']=='cher'][\"tokens\"])"
   ]
  },
  {
   "cell_type": "code",
   "execution_count": 21,
   "id": "ee533627",
   "metadata": {},
   "outputs": [
    {
     "name": "stdout",
     "output_type": "stream",
     "text": [
      "\n",
      "Twitter Description Data for Robyn:\n",
      "\n",
      "There are 1443350 tokens in the data.\n",
      "There are 275032 unique tokens in the data.\n",
      "There are 9050822 characters in the data.\n",
      "The lexical diversity is 0.191 in the data.\n",
      "The top 5 most common tokens\n",
      "[('music', 9293), ('love', 8118), ('och', 7774), ('Im', 6992), ('de', 6075)]\n"
     ]
    },
    {
     "data": {
      "text/plain": [
       "[1443350, 275032, 0.1905511483701112, 9050822]"
      ]
     },
     "execution_count": 21,
     "metadata": {},
     "output_type": "execute_result"
    }
   ],
   "source": [
    "print(\"\\nTwitter Description Data for Robyn:\\n\")\n",
    "flatten_and_descriptive_stats(twitter_df.loc[twitter_df['artist']=='robyn'][\"tokens\"])"
   ]
  },
  {
   "cell_type": "markdown",
   "id": "46294409",
   "metadata": {},
   "source": [
    "Q: How do you think the \"top 5 words\" would be different if we left stopwords in the data? \n",
    "\n",
    "A: Most definatly the top 5 words would have been things like \"a\", \"we\", \"here\", and \"the\".\n",
    "\n",
    "---\n",
    "\n",
    "Q: What were your prior beliefs about the lexical diversity between the artists? Does the difference (or lack thereof) in lexical diversity between the artists conform to your prior beliefs? \n",
    "\n",
    "A: Because of the lexical richness, I would have thought that the Cher's lyrics would be simpler than Robyn's. Cher's songs that I am familiar with frequently repeat.\n"
   ]
  },
  {
   "cell_type": "markdown",
   "id": "4d4e1ac1",
   "metadata": {},
   "source": [
    "\n",
    "## Specialty Statistics\n",
    "\n",
    "The descriptive statistics we have calculated are quite generic. You will now calculate a handful of statistics tailored to these data.\n",
    "\n",
    "1. Ten most common emojis by artist in the twitter descriptions.\n",
    "1. Ten most common hashtags by artist in the twitter descriptions.\n",
    "1. Five most common words in song titles by artist. \n",
    "1. For each artist, a histogram of song lengths (in terms of number of tokens) \n",
    "\n",
    "We can use the `emoji` library to help us identify emojis and you have been given a function to help you.\n"
   ]
  },
  {
   "cell_type": "code",
   "execution_count": 22,
   "id": "753a5a3e",
   "metadata": {},
   "outputs": [],
   "source": [
    "assert(emoji.is_emoji(\"❤️\"))\n",
    "assert(not emoji.is_emoji(\":-)\"))"
   ]
  },
  {
   "cell_type": "markdown",
   "id": "986fc4c0",
   "metadata": {},
   "source": [
    "### Emojis 😁\n",
    "\n",
    "<!-- What are the ten most common emojis by artist in the twitter descriptions?  -->\n",
    "\n",
    "\n"
   ]
  },
  {
   "cell_type": "code",
   "execution_count": 23,
   "id": "269cd433",
   "metadata": {},
   "outputs": [],
   "source": [
    "# Your code here\n",
    "\n",
    "# Tokenized emoji Data\n",
    "twitter_df['emoji'] = twitter_df['description'].map(emoji.distinct_emoji_list)"
   ]
  },
  {
   "cell_type": "code",
   "execution_count": 24,
   "id": "4087e7c7",
   "metadata": {},
   "outputs": [
    {
     "name": "stdout",
     "output_type": "stream",
     "text": [
      "\n",
      "Twitter emoji Data for Robyn:\n",
      "\n",
      "There are 64530 tokens in the data.\n",
      "There are 2379 unique tokens in the data.\n",
      "There are 98878 characters in the data.\n",
      "The lexical diversity is 0.037 in the data.\n",
      "The top 10 most common tokens\n",
      "[('🏳️\\u200d🌈', 3071), ('❤️', 2088), ('♥', 1544), ('✨', 1510), ('🌈', 1265), ('❤', 1108), ('💙', 679), ('🎶', 623), ('💜', 622), ('🇺🇸', 572)]\n"
     ]
    },
    {
     "data": {
      "text/plain": [
       "[64530, 2379, 0.03686657368665737, 98878]"
      ]
     },
     "execution_count": 24,
     "metadata": {},
     "output_type": "execute_result"
    }
   ],
   "source": [
    "# Helper Function\n",
    "def flatten_and_descriptive_emoji_stats(list_of_lists):\n",
    "    wordlist = [i for s in list_of_lists for i in s]\n",
    "    return descriptive_stats(wordlist, 10)\n",
    "\n",
    "print(\"\\nTwitter emoji Data for Robyn:\\n\")\n",
    "flatten_and_descriptive_emoji_stats(twitter_df.loc[twitter_df['artist']=='robyn'][\"emoji\"])"
   ]
  },
  {
   "cell_type": "code",
   "execution_count": 25,
   "id": "16bb2f43",
   "metadata": {},
   "outputs": [
    {
     "name": "stdout",
     "output_type": "stream",
     "text": [
      "\n",
      "Twitter emoji Data for Cher:\n",
      "\n",
      "There are 1882150 tokens in the data.\n",
      "There are 3398 unique tokens in the data.\n",
      "There are 2696452 characters in the data.\n",
      "The lexical diversity is 0.002 in the data.\n",
      "The top 10 most common tokens\n",
      "[('❤️', 68448), ('🏳️\\u200d🌈', 56630), ('❤', 41720), ('✨', 40764), ('💙', 32796), ('♥', 30076), ('🌈', 29848), ('💜', 25652), ('🇺🇸', 24080), ('🌊', 20878)]\n"
     ]
    },
    {
     "data": {
      "text/plain": [
       "[1882150, 3398, 0.0018053821427622665, 2696452]"
      ]
     },
     "execution_count": 25,
     "metadata": {},
     "output_type": "execute_result"
    }
   ],
   "source": [
    "print(\"\\nTwitter emoji Data for Cher:\\n\")\n",
    "flatten_and_descriptive_emoji_stats(twitter_df.loc[twitter_df['artist']=='cher'][\"emoji\"])"
   ]
  },
  {
   "cell_type": "markdown",
   "id": "bab9b770",
   "metadata": {},
   "source": [
    "### Hashtags\n",
    "\n",
    "What are the ten most common hashtags by artist in the twitter descriptions? \n"
   ]
  },
  {
   "cell_type": "code",
   "execution_count": 26,
   "id": "07c396f1",
   "metadata": {},
   "outputs": [],
   "source": [
    "# Your code here\n",
    "# Helper function\n",
    "def hashtag_tokenizer(text):\n",
    "    return re.findall(r\"#(\\w+)\", text)\n",
    "    \n",
    "# Tokenized Hashtag Data\n",
    "twitter_df['hashtags'] = twitter_df['description'].map(hashtag_tokenizer)"
   ]
  },
  {
   "cell_type": "code",
   "execution_count": 27,
   "id": "64e0eccd",
   "metadata": {},
   "outputs": [
    {
     "name": "stdout",
     "output_type": "stream",
     "text": [
      "\n",
      "Twitter emoji Data for Cher:\n",
      "\n",
      "There are 857804 tokens in the data.\n",
      "There are 164866 unique tokens in the data.\n",
      "There are 7983378 characters in the data.\n",
      "The lexical diversity is 0.192 in the data.\n",
      "The top 10 most common tokens\n",
      "[('BLM', 19082), ('Resist', 12070), ('BlackLivesMatter', 9366), ('resist', 7594), ('FBR', 6480), ('TheResistance', 5988), ('blacklivesmatter', 5290), ('1', 5266), ('Resistance', 3834), ('RESIST', 3648)]\n"
     ]
    },
    {
     "data": {
      "text/plain": [
       "[857804, 164866, 0.19219541993275854, 7983378]"
      ]
     },
     "execution_count": 27,
     "metadata": {},
     "output_type": "execute_result"
    }
   ],
   "source": [
    "print(\"\\nTwitter emoji Data for Cher:\\n\")\n",
    "flatten_and_descriptive_emoji_stats(twitter_df.loc[twitter_df['artist']=='cher'][\"hashtags\"])"
   ]
  },
  {
   "cell_type": "code",
   "execution_count": 28,
   "id": "3111cb98",
   "metadata": {},
   "outputs": [
    {
     "name": "stdout",
     "output_type": "stream",
     "text": [
      "\n",
      "Twitter emoji Data for Robyn:\n",
      "\n",
      "There are 30133 tokens in the data.\n",
      "There are 19884 unique tokens in the data.\n",
      "There are 270529 characters in the data.\n",
      "The lexical diversity is 0.660 in the data.\n",
      "The top 10 most common tokens\n",
      "[('BlackLivesMatter', 337), ('BLM', 307), ('blacklivesmatter', 208), ('1', 199), ('music', 174), ('Music', 113), ('EDM', 86), ('LGBTQ', 75), ('TeamFollowBack', 59), ('blm', 56)]\n"
     ]
    },
    {
     "data": {
      "text/plain": [
       "[30133, 19884, 0.6598745561344705, 270529]"
      ]
     },
     "execution_count": 28,
     "metadata": {},
     "output_type": "execute_result"
    }
   ],
   "source": [
    "print(\"\\nTwitter emoji Data for Robyn:\\n\")\n",
    "flatten_and_descriptive_emoji_stats(twitter_df.loc[twitter_df['artist']=='robyn'][\"hashtags\"])"
   ]
  },
  {
   "cell_type": "markdown",
   "id": "d10f21d5",
   "metadata": {},
   "source": [
    "### Song Titles\n",
    "\n",
    "What are the five most common words in song titles by artist? The song titles should be on the first line of the lyrics pages, so if you have kept the raw file contents around, you will not need to re-read the data.\n"
   ]
  },
  {
   "cell_type": "code",
   "execution_count": 29,
   "id": "bb69b36b",
   "metadata": {},
   "outputs": [],
   "source": [
    "# Your code here\n",
    "\n",
    "def title_clean_tokenize(text):\n",
    "    # convert html escapes like &amp; to characters.\n",
    "    text = html.unescape(text)\n",
    "    # tags like <tab>\n",
    "    text = re.sub(r'<[^<>]*>', ' ', text)\n",
    "    # markdown URLs like [Some text](https://....)\n",
    "    text = re.sub(r'\\[([^\\[\\]]*)\\]\\([^\\(\\)]*\\)', r'\\1', text)\n",
    "    # text or code in brackets like [0]\n",
    "    text = re.sub(r'\\[[^\\[\\]]*\\]', ' ', text)\n",
    "    # standalone sequences of specials, matches &# but not #cool\n",
    "    text = re.sub(r'(?:^|\\s)[&#<>{}\\[\\]+|\\\\:-]{1,}(?:\\s|$)', ' ', text)\n",
    "    # standalone sequences of hyphens like --- or ==\n",
    "    text = re.sub(r'(?:^|\\s)[\\-=\\+]{2,}(?:\\s|$)', ' ', text)\n",
    "    # Remove Puncuation\n",
    "    def remove_punc(s):\n",
    "        return ''.join(ch for ch in s if ch not in punctuation)\n",
    "    text = remove_punc(text)\n",
    "    # sequences of white spaces\n",
    "    text = re.sub(r'\\s+', ' ', text)\n",
    "    text = text.strip()\n",
    "    text = tprep.normalize.hyphenated_words(text)\n",
    "    text = tprep.normalize.quotation_marks(text)\n",
    "    text = tprep.normalize.unicode(text)\n",
    "    text = tprep.remove.accents(text)\n",
    "    return re.findall(r'[\\w-]*\\p{L}[\\w-]*', text)\n",
    "\n",
    "\n",
    "# Tokenized Title Data\n",
    "lyrics_df['clean_title'] = lyrics_df['title'].map(title_clean_tokenize)\n"
   ]
  },
  {
   "cell_type": "code",
   "execution_count": 30,
   "id": "4cb274df",
   "metadata": {},
   "outputs": [
    {
     "name": "stdout",
     "output_type": "stream",
     "text": [
      "\n",
      "Title Data for Robyn:\n",
      "\n",
      "There are 256 tokens in the data.\n",
      "There are 175 unique tokens in the data.\n",
      "There are 1159 characters in the data.\n",
      "The lexical diversity is 0.684 in the data.\n",
      "The top 5 most common tokens\n",
      "[('Me', 9), ('You', 8), ('The', 7), ('My', 6), ('Love', 5)]\n"
     ]
    },
    {
     "data": {
      "text/plain": [
       "[256, 175, 0.68359375, 1159]"
      ]
     },
     "execution_count": 30,
     "metadata": {},
     "output_type": "execute_result"
    }
   ],
   "source": [
    "print(\"\\nTitle Data for Robyn:\\n\")\n",
    "flatten_and_descriptive_stats(lyrics_df.loc[lyrics_df['artist']=='robyn'][\"clean_title\"])"
   ]
  },
  {
   "cell_type": "code",
   "execution_count": 31,
   "id": "303ee47c",
   "metadata": {},
   "outputs": [
    {
     "name": "stdout",
     "output_type": "stream",
     "text": [
      "\n",
      "Title Data for Cher:\n",
      "\n",
      "There are 2310 tokens in the data.\n",
      "There are 510 unique tokens in the data.\n",
      "There are 9276 characters in the data.\n",
      "The lexical diversity is 0.221 in the data.\n",
      "The top 5 most common tokens\n",
      "[('The', 108), ('You', 82), ('Love', 72), ('I', 64), ('To', 56)]\n"
     ]
    },
    {
     "data": {
      "text/plain": [
       "[2310, 510, 0.22077922077922077, 9276]"
      ]
     },
     "execution_count": 31,
     "metadata": {},
     "output_type": "execute_result"
    }
   ],
   "source": [
    "print(\"\\nTitle Data for Cher:\\n\")\n",
    "flatten_and_descriptive_stats(lyrics_df.loc[lyrics_df['artist']=='cher'][\"clean_title\"])"
   ]
  },
  {
   "cell_type": "markdown",
   "id": "5dd4fd71",
   "metadata": {},
   "source": [
    "### Song Lengths\n",
    "\n",
    "For each artist, a histogram of song lengths (in terms of number of tokens). If you put the song lengths in a data frame with an artist column, matplotlib will make the plotting quite easy. An example is given to help you out. \n"
   ]
  },
  {
   "cell_type": "code",
   "execution_count": 32,
   "id": "805a1e52",
   "metadata": {},
   "outputs": [
    {
     "data": {
      "text/plain": [
       "artist\n",
       "Artist 1    AxesSubplot(0.125,0.125;0.775x0.755)\n",
       "Artist 2    AxesSubplot(0.125,0.125;0.775x0.755)\n",
       "Name: length, dtype: object"
      ]
     },
     "execution_count": 32,
     "metadata": {},
     "output_type": "execute_result"
    },
    {
     "data": {
      "image/png": "[encoded data removed]",
      "text/plain": [
       "<Figure size 432x288 with 1 Axes>"
      ]
     },
     "metadata": {
      "needs_background": "light"
     },
     "output_type": "display_data"
    }
   ],
   "source": [
    "import matplotlib.pyplot as plt\n",
    "%matplotlib inline\n",
    "num_replicates = 1000\n",
    "\n",
    "df = pd.DataFrame({\n",
    "    \"artist\" : ['Artist 1'] * num_replicates + ['Artist 2']*num_replicates,\n",
    "    \"length\" : np.concatenate((np.random.poisson(125,num_replicates),np.random.poisson(150,num_replicates)))\n",
    "})\n",
    "\n",
    "df.groupby('artist')['length'].plot(kind=\"hist\",density=True,alpha=0.5,legend=True)"
   ]
  },
  {
   "cell_type": "markdown",
   "id": "8fde9ebb",
   "metadata": {},
   "source": [
    "Since the lyrics may be stored with carriage returns or tabs, it may be useful to have a function that can collapse whitespace, using regular expressions, and be used for splitting. \n",
    "\n",
    "Q: What does the regular expression `'\\s+'` match on? \n",
    "\n",
    "A: This will match on white space (spaces between words, tabs) and the + sign indicates that eithe one or more should be matched.\n"
   ]
  },
  {
   "cell_type": "code",
   "execution_count": 33,
   "id": "f0e34516",
   "metadata": {},
   "outputs": [],
   "source": [
    "# This is not necessary since I already did all this earlier.\n",
    "# collapse_whitespace = re.compile(r'\\s+')\n",
    "\n",
    "# def tokenize_lyrics(lyric) : \n",
    "#     \"\"\"strip and split on whitespace\"\"\"\n",
    "#     return([item.lower() for item in collapse_whitespace.split(lyric)])"
   ]
  },
  {
   "cell_type": "code",
   "execution_count": 34,
   "id": "2294c440",
   "metadata": {},
   "outputs": [],
   "source": [
    "# Your lyric length comparison chart here. \n",
    "lyrics_df['length'] = lyrics_df['tokens'].map(len)"
   ]
  },
  {
   "cell_type": "code",
   "execution_count": 35,
   "id": "a1831f21",
   "metadata": {},
   "outputs": [
    {
     "data": {
      "text/plain": [
       "artist\n",
       "cher     AxesSubplot(0.125,0.125;0.775x0.755)\n",
       "robyn    AxesSubplot(0.125,0.125;0.775x0.755)\n",
       "Name: length, dtype: object"
      ]
     },
     "execution_count": 35,
     "metadata": {},
     "output_type": "execute_result"
    },
    {
     "data": {
      "image/png": "[encoded data removed]",
      "text/plain": [
       "<Figure size 432x288 with 1 Axes>"
      ]
     },
     "metadata": {
      "needs_background": "light"
     },
     "output_type": "display_data"
    }
   ],
   "source": [
    "lyrics_df.groupby('artist')['length'].plot(kind=\"hist\",density=True,alpha=0.5,legend=True)"
   ]
  },
  {
   "cell_type": "code",
   "execution_count": null,
   "id": "3decbd3e",
   "metadata": {},
   "outputs": [],
   "source": []
  }
 ],
 "metadata": {
  "kernelspec": {
   "display_name": "Python 3 (ipykernel)",
   "language": "python",
   "name": "python3"
  },
  "language_info": {
   "codemirror_mode": {
    "name": "ipython",
    "version": 3
   },
   "file_extension": ".py",
   "mimetype": "text/x-python",
   "name": "python",
   "nbconvert_exporter": "python",
   "pygments_lexer": "ipython3",
   "version": "3.9.7"
  },
  "vscode": {
   "interpreter": {
    "hash": "22b6aa23ebdb95c31771a605332d65b96d6e70a70a8e5cf021766a53e709a3c7"
   }
  }
 },
 "nbformat": 4,
 "nbformat_minor": 5
}
